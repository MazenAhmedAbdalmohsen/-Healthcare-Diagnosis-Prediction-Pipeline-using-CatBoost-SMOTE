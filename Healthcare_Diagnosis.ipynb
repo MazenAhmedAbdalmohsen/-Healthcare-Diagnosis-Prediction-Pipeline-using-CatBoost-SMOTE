{
  "nbformat": 4,
  "nbformat_minor": 0,
  "metadata": {
    "colab": {
      "provenance": [],
      "gpuType": "T4"
    },
    "kernelspec": {
      "name": "python3",
      "display_name": "Python 3"
    },
    "language_info": {
      "name": "python"
    },
    "accelerator": "GPU",
    "widgets": {
      "application/vnd.jupyter.widget-state+json": {
        "f8b793c4376f411a95de28c62d17851d": {
          "model_module": "catboost-widget",
          "model_name": "CatboostWidgetModel",
          "model_module_version": "^1.0.0",
          "state": {
            "_dom_classes": [],
            "_model_module": "catboost-widget",
            "_model_module_version": "^1.0.0",
            "_model_name": "CatboostWidgetModel",
            "_view_count": null,
            "_view_module": "catboost-widget",
            "_view_module_version": "^1.0.0",
            "_view_name": "CatboostWidgetView",
            "data": {
              "catboost_info": {
                "path": "catboost_info",
                "name": "catboost_info",
                "content": {
                  "passed_iterations": 51,
                  "total_iterations": 1500,
                  "data": {
                    "iterations": [
                      {
                        "learn": [
                          0.2325399844,
                          1.788741012
                        ],
                        "iteration": 0,
                        "passed_time": 0.2119062384,
                        "remaining_time": 317.6474514,
                        "test": [
                          0.1613829022,
                          1.791692874
                        ]
                      },
                      {
                        "learn": [
                          0.2630153062,
                          1.786382747
                        ],
                        "iteration": 1,
                        "passed_time": 0.360037722,
                        "remaining_time": 269.6682537,
                        "test": [
                          0.1711289232,
                          1.79172437
                        ]
                      },
                      {
                        "learn": [
                          0.2650185643,
                          1.786030024
                        ],
                        "iteration": 2,
                        "passed_time": 0.4841240356,
                        "remaining_time": 241.5778938,
                        "test": [
                          0.1593523381,
                          1.791774211
                        ]
                      },
                      {
                        "learn": [
                          0.2691874887,
                          1.785539742
                        ],
                        "iteration": 3,
                        "passed_time": 0.6677118297,
                        "remaining_time": 249.7242243,
                        "test": [
                          0.1586437918,
                          1.791695604
                        ]
                      },
                      {
                        "learn": [
                          0.2695379846,
                          1.785148957
                        ],
                        "iteration": 4,
                        "passed_time": 0.9230052532,
                        "remaining_time": 275.9785707,
                        "test": [
                          0.1573874431,
                          1.791743907
                        ]
                      },
                      {
                        "learn": [
                          0.2661318757,
                          1.785032436
                        ],
                        "iteration": 5,
                        "passed_time": 0.98376573,
                        "remaining_time": 244.9576668,
                        "test": [
                          0.1593631393,
                          1.791747021
                        ]
                      },
                      {
                        "learn": [
                          0.2673843099,
                          1.784903245
                        ],
                        "iteration": 6,
                        "passed_time": 1.13427198,
                        "remaining_time": 241.9240093,
                        "test": [
                          0.1549333958,
                          1.791790897
                        ]
                      },
                      {
                        "learn": [
                          0.2682123832,
                          1.784609461
                        ],
                        "iteration": 7,
                        "passed_time": 1.311873159,
                        "remaining_time": 244.6643441,
                        "test": [
                          0.1569287888,
                          1.791844579
                        ]
                      },
                      {
                        "learn": [
                          0.2641303098,
                          1.784292271
                        ],
                        "iteration": 8,
                        "passed_time": 1.44361905,
                        "remaining_time": 239.1595559,
                        "test": [
                          0.1561405647,
                          1.792039203
                        ]
                      },
                      {
                        "learn": [
                          0.2699176582,
                          1.783588798
                        ],
                        "iteration": 9,
                        "passed_time": 1.608000127,
                        "remaining_time": 239.5920189,
                        "test": [
                          0.1497075262,
                          1.791969123
                        ]
                      },
                      {
                        "learn": [
                          0.2679617569,
                          1.783500855
                        ],
                        "iteration": 10,
                        "passed_time": 1.719209243,
                        "remaining_time": 232.7184149,
                        "test": [
                          0.1517502546,
                          1.792010732
                        ]
                      },
                      {
                        "learn": [
                          0.271107331,
                          1.78303052
                        ],
                        "iteration": 11,
                        "passed_time": 1.877093277,
                        "remaining_time": 232.7595664,
                        "test": [
                          0.1476687098,
                          1.792027289
                        ]
                      },
                      {
                        "learn": [
                          0.2708302226,
                          1.782637294
                        ],
                        "iteration": 12,
                        "passed_time": 2.034075473,
                        "remaining_time": 232.6669407,
                        "test": [
                          0.1386778901,
                          1.792016574
                        ]
                      },
                      {
                        "learn": [
                          0.2705868225,
                          1.782132259
                        ],
                        "iteration": 13,
                        "passed_time": 2.147932634,
                        "remaining_time": 227.9877067,
                        "test": [
                          0.1421944778,
                          1.792156738
                        ]
                      },
                      {
                        "learn": [
                          0.2668954226,
                          1.781792663
                        ],
                        "iteration": 14,
                        "passed_time": 2.263293191,
                        "remaining_time": 224.0660259,
                        "test": [
                          0.1401002855,
                          1.792206993
                        ]
                      },
                      {
                        "learn": [
                          0.2677285571,
                          1.781524484
                        ],
                        "iteration": 15,
                        "passed_time": 2.37741537,
                        "remaining_time": 220.5052756,
                        "test": [
                          0.1360587535,
                          1.792222035
                        ]
                      },
                      {
                        "learn": [
                          0.2708379068,
                          1.780099209
                        ],
                        "iteration": 16,
                        "passed_time": 2.529061947,
                        "remaining_time": 220.6234628,
                        "test": [
                          0.1365375507,
                          1.792412863
                        ]
                      },
                      {
                        "learn": [
                          0.2715431932,
                          1.780031912
                        ],
                        "iteration": 17,
                        "passed_time": 2.567462457,
                        "remaining_time": 211.3877423,
                        "test": [
                          0.1344552574,
                          1.792417423
                        ]
                      },
                      {
                        "learn": [
                          0.2686480145,
                          1.779829897
                        ],
                        "iteration": 18,
                        "passed_time": 2.718670236,
                        "remaining_time": 211.9131905,
                        "test": [
                          0.13409097,
                          1.792443795
                        ]
                      },
                      {
                        "learn": [
                          0.2713235209,
                          1.779130839
                        ],
                        "iteration": 19,
                        "passed_time": 2.907127787,
                        "remaining_time": 215.1274562,
                        "test": [
                          0.1465598935,
                          1.7923592
                        ]
                      },
                      {
                        "learn": [
                          0.2741134446,
                          1.77776377
                        ],
                        "iteration": 20,
                        "passed_time": 3.09076914,
                        "remaining_time": 217.6784552,
                        "test": [
                          0.1430408883,
                          1.792507863
                        ]
                      },
                      {
                        "learn": [
                          0.2744110677,
                          1.777315781
                        ],
                        "iteration": 21,
                        "passed_time": 3.303142541,
                        "remaining_time": 221.9111216,
                        "test": [
                          0.1379817095,
                          1.792548306
                        ]
                      },
                      {
                        "learn": [
                          0.273672956,
                          1.777196288
                        ],
                        "iteration": 22,
                        "passed_time": 3.513274831,
                        "remaining_time": 225.6133446,
                        "test": [
                          0.138178059,
                          1.792610454
                        ]
                      },
                      {
                        "learn": [
                          0.2693515553,
                          1.776835271
                        ],
                        "iteration": 23,
                        "passed_time": 3.734341078,
                        "remaining_time": 229.6619763,
                        "test": [
                          0.1404200112,
                          1.79272007
                        ]
                      },
                      {
                        "learn": [
                          0.2708754165,
                          1.776794973
                        ],
                        "iteration": 24,
                        "passed_time": 3.831843256,
                        "remaining_time": 226.0787521,
                        "test": [
                          0.1403489605,
                          1.79271698
                        ]
                      },
                      {
                        "learn": [
                          0.2694376389,
                          1.776436787
                        ],
                        "iteration": 25,
                        "passed_time": 4.015803034,
                        "remaining_time": 227.6651413,
                        "test": [
                          0.1406183162,
                          1.792729531
                        ]
                      },
                      {
                        "learn": [
                          0.2692624337,
                          1.775789556
                        ],
                        "iteration": 26,
                        "passed_time": 4.314521168,
                        "remaining_time": 235.3810993,
                        "test": [
                          0.1391808203,
                          1.792810648
                        ]
                      },
                      {
                        "learn": [
                          0.2696602323,
                          1.775208175
                        ],
                        "iteration": 27,
                        "passed_time": 4.601572257,
                        "remaining_time": 241.9112272,
                        "test": [
                          0.1344439434,
                          1.792858508
                        ]
                      },
                      {
                        "learn": [
                          0.2700422103,
                          1.77484097
                        ],
                        "iteration": 28,
                        "passed_time": 4.802738788,
                        "remaining_time": 243.6147847,
                        "test": [
                          0.1345801237,
                          1.792863263
                        ]
                      },
                      {
                        "learn": [
                          0.2707704904,
                          1.77480944
                        ],
                        "iteration": 29,
                        "passed_time": 4.891432448,
                        "remaining_time": 239.68019,
                        "test": [
                          0.1346623216,
                          1.792867941
                        ]
                      },
                      {
                        "learn": [
                          0.2706384812,
                          1.774797399
                        ],
                        "iteration": 30,
                        "passed_time": 4.945244372,
                        "remaining_time": 234.3407736,
                        "test": [
                          0.134673688,
                          1.792867933
                        ]
                      },
                      {
                        "learn": [
                          0.2710326505,
                          1.774797306
                        ],
                        "iteration": 31,
                        "passed_time": 4.974051462,
                        "remaining_time": 228.1846108,
                        "test": [
                          0.1343927543,
                          1.792867028
                        ]
                      },
                      {
                        "learn": [
                          0.2677716812,
                          1.774372061
                        ],
                        "iteration": 32,
                        "passed_time": 5.238829001,
                        "remaining_time": 232.8897619,
                        "test": [
                          0.1355085574,
                          1.792890378
                        ]
                      },
                      {
                        "learn": [
                          0.2677097192,
                          1.773839119
                        ],
                        "iteration": 33,
                        "passed_time": 5.528028975,
                        "remaining_time": 238.3556023,
                        "test": [
                          0.1317400889,
                          1.792948805
                        ]
                      },
                      {
                        "learn": [
                          0.2678223136,
                          1.773602245
                        ],
                        "iteration": 34,
                        "passed_time": 5.743225343,
                        "remaining_time": 240.3950036,
                        "test": [
                          0.1315470596,
                          1.792959625
                        ]
                      },
                      {
                        "learn": [
                          0.2707736968,
                          1.772604803
                        ],
                        "iteration": 35,
                        "passed_time": 6.044289007,
                        "remaining_time": 245.8010863,
                        "test": [
                          0.142186389,
                          1.792998341
                        ]
                      },
                      {
                        "learn": [
                          0.2708017698,
                          1.772595375
                        ],
                        "iteration": 36,
                        "passed_time": 6.087059471,
                        "remaining_time": 240.6856218,
                        "test": [
                          0.1421814361,
                          1.792997864
                        ]
                      },
                      {
                        "learn": [
                          0.2706063117,
                          1.772376654
                        ],
                        "iteration": 37,
                        "passed_time": 6.315500044,
                        "remaining_time": 242.9805543,
                        "test": [
                          0.1376632529,
                          1.793007346
                        ]
                      },
                      {
                        "learn": [
                          0.2737072801,
                          1.770962675
                        ],
                        "iteration": 38,
                        "passed_time": 6.606196328,
                        "remaining_time": 247.4782778,
                        "test": [
                          0.1428218664,
                          1.793124372
                        ]
                      },
                      {
                        "learn": [
                          0.2845325054,
                          1.768885353
                        ],
                        "iteration": 39,
                        "passed_time": 6.900541836,
                        "remaining_time": 251.869777,
                        "test": [
                          0.1419813798,
                          1.793356423
                        ]
                      },
                      {
                        "learn": [
                          0.2854978595,
                          1.767886341
                        ],
                        "iteration": 40,
                        "passed_time": 7.19277211,
                        "remaining_time": 255.957427,
                        "test": [
                          0.1432777084,
                          1.793631532
                        ]
                      },
                      {
                        "learn": [
                          0.2878611055,
                          1.766630825
                        ],
                        "iteration": 41,
                        "passed_time": 7.590895572,
                        "remaining_time": 263.5125177,
                        "test": [
                          0.1506951981,
                          1.793737325
                        ]
                      },
                      {
                        "learn": [
                          0.287292242,
                          1.766111997
                        ],
                        "iteration": 42,
                        "passed_time": 7.917127293,
                        "remaining_time": 268.2617318,
                        "test": [
                          0.1502656086,
                          1.793704189
                        ]
                      },
                      {
                        "learn": [
                          0.2855168335,
                          1.765943824
                        ],
                        "iteration": 43,
                        "passed_time": 8.247354826,
                        "remaining_time": 272.9124688,
                        "test": [
                          0.1475113099,
                          1.793771942
                        ]
                      },
                      {
                        "learn": [
                          0.2858859875,
                          1.765831739
                        ],
                        "iteration": 44,
                        "passed_time": 8.791453303,
                        "remaining_time": 284.2569901,
                        "test": [
                          0.1476527286,
                          1.793768153
                        ]
                      },
                      {
                        "learn": [
                          0.2878165187,
                          1.765279559
                        ],
                        "iteration": 45,
                        "passed_time": 9.243447924,
                        "remaining_time": 292.1733322,
                        "test": [
                          0.1485234472,
                          1.793643388
                        ]
                      },
                      {
                        "learn": [
                          0.2871292272,
                          1.764747952
                        ],
                        "iteration": 46,
                        "passed_time": 9.613755521,
                        "remaining_time": 297.2082292,
                        "test": [
                          0.1478061726,
                          1.793734118
                        ]
                      },
                      {
                        "learn": [
                          0.2849438211,
                          1.764010158
                        ],
                        "iteration": 47,
                        "passed_time": 9.956119177,
                        "remaining_time": 301.1726051,
                        "test": [
                          0.1490711146,
                          1.793759978
                        ]
                      },
                      {
                        "learn": [
                          0.2869405404,
                          1.763654168
                        ],
                        "iteration": 48,
                        "passed_time": 10.16834396,
                        "remaining_time": 301.1074915,
                        "test": [
                          0.1508362563,
                          1.79385091
                        ]
                      },
                      {
                        "learn": [
                          0.2858192252,
                          1.76358994
                        ],
                        "iteration": 49,
                        "passed_time": 10.40356203,
                        "remaining_time": 301.7032988,
                        "test": [
                          0.1515594414,
                          1.793854804
                        ]
                      },
                      {
                        "learn": [
                          0.2862957927,
                          1.763170326
                        ],
                        "iteration": 50,
                        "passed_time": 10.73672752,
                        "remaining_time": 305.0493761,
                        "test": [
                          0.150648065,
                          1.793973124
                        ]
                      },
                      {
                        "learn": [
                          0.2838189866,
                          1.762893251
                        ],
                        "iteration": 51,
                        "passed_time": 11.08308958,
                        "remaining_time": 308.6214175,
                        "test": [
                          0.1540725026,
                          1.793992469
                        ]
                      }
                    ],
                    "meta": {
                      "test_sets": [
                        "test"
                      ],
                      "test_metrics": [
                        {
                          "best_value": "Max",
                          "name": "TotalF1"
                        },
                        {
                          "best_value": "Min",
                          "name": "MultiClass"
                        }
                      ],
                      "learn_metrics": [
                        {
                          "best_value": "Max",
                          "name": "TotalF1"
                        },
                        {
                          "best_value": "Min",
                          "name": "MultiClass"
                        }
                      ],
                      "launch_mode": "Train",
                      "parameters": "",
                      "iteration_count": 1500,
                      "learn_sets": [
                        "learn"
                      ],
                      "name": "experiment"
                    }
                  }
                }
              }
            },
            "layout": "IPY_MODEL_f00eeaeecb184bb980d9885ca99e9c96"
          }
        }
      }
    }
  },
  "cells": [
    {
      "cell_type": "code",
      "source": [
        "!pip install catboost"
      ],
      "metadata": {
        "colab": {
          "base_uri": "https://localhost:8080/"
        },
        "id": "q-qqxwDy1eg6",
        "outputId": "ea9b5374-7bb6-4ebf-c7f4-6a42bc5af1f8"
      },
      "execution_count": null,
      "outputs": [
        {
          "output_type": "stream",
          "name": "stdout",
          "text": [
            "Collecting catboost\n",
            "  Downloading catboost-1.2.8-cp311-cp311-manylinux2014_x86_64.whl.metadata (1.2 kB)\n",
            "Requirement already satisfied: graphviz in /usr/local/lib/python3.11/dist-packages (from catboost) (0.21)\n",
            "Requirement already satisfied: matplotlib in /usr/local/lib/python3.11/dist-packages (from catboost) (3.10.0)\n",
            "Requirement already satisfied: numpy<3.0,>=1.16.0 in /usr/local/lib/python3.11/dist-packages (from catboost) (2.0.2)\n",
            "Requirement already satisfied: pandas>=0.24 in /usr/local/lib/python3.11/dist-packages (from catboost) (2.2.2)\n",
            "Requirement already satisfied: scipy in /usr/local/lib/python3.11/dist-packages (from catboost) (1.15.3)\n",
            "Requirement already satisfied: plotly in /usr/local/lib/python3.11/dist-packages (from catboost) (5.24.1)\n",
            "Requirement already satisfied: six in /usr/local/lib/python3.11/dist-packages (from catboost) (1.17.0)\n",
            "Requirement already satisfied: python-dateutil>=2.8.2 in /usr/local/lib/python3.11/dist-packages (from pandas>=0.24->catboost) (2.9.0.post0)\n",
            "Requirement already satisfied: pytz>=2020.1 in /usr/local/lib/python3.11/dist-packages (from pandas>=0.24->catboost) (2025.2)\n",
            "Requirement already satisfied: tzdata>=2022.7 in /usr/local/lib/python3.11/dist-packages (from pandas>=0.24->catboost) (2025.2)\n",
            "Requirement already satisfied: contourpy>=1.0.1 in /usr/local/lib/python3.11/dist-packages (from matplotlib->catboost) (1.3.2)\n",
            "Requirement already satisfied: cycler>=0.10 in /usr/local/lib/python3.11/dist-packages (from matplotlib->catboost) (0.12.1)\n",
            "Requirement already satisfied: fonttools>=4.22.0 in /usr/local/lib/python3.11/dist-packages (from matplotlib->catboost) (4.58.5)\n",
            "Requirement already satisfied: kiwisolver>=1.3.1 in /usr/local/lib/python3.11/dist-packages (from matplotlib->catboost) (1.4.8)\n",
            "Requirement already satisfied: packaging>=20.0 in /usr/local/lib/python3.11/dist-packages (from matplotlib->catboost) (25.0)\n",
            "Requirement already satisfied: pillow>=8 in /usr/local/lib/python3.11/dist-packages (from matplotlib->catboost) (11.2.1)\n",
            "Requirement already satisfied: pyparsing>=2.3.1 in /usr/local/lib/python3.11/dist-packages (from matplotlib->catboost) (3.2.3)\n",
            "Requirement already satisfied: tenacity>=6.2.0 in /usr/local/lib/python3.11/dist-packages (from plotly->catboost) (8.5.0)\n",
            "Downloading catboost-1.2.8-cp311-cp311-manylinux2014_x86_64.whl (99.2 MB)\n",
            "\u001b[2K   \u001b[90m━━━━━━━━━━━━━━━━━━━━━━━━━━━━━━━━━━━━━━━━\u001b[0m \u001b[32m99.2/99.2 MB\u001b[0m \u001b[31m8.3 MB/s\u001b[0m eta \u001b[36m0:00:00\u001b[0m\n",
            "\u001b[?25hInstalling collected packages: catboost\n",
            "Successfully installed catboost-1.2.8\n"
          ]
        }
      ]
    },
    {
      "cell_type": "code",
      "source": [
        "from google.colab import output\n",
        "output.enable_custom_widget_manager()"
      ],
      "metadata": {
        "id": "Y8yYief12QDg"
      },
      "execution_count": null,
      "outputs": []
    },
    {
      "cell_type": "code",
      "source": [
        "# ======================\n",
        "# 1. IMPORT LIBRARIES\n",
        "# ======================\n",
        "import pandas as pd\n",
        "import numpy as np\n",
        "from sklearn.preprocessing import LabelEncoder\n",
        "from sklearn.model_selection import train_test_split\n",
        "from sklearn.metrics import balanced_accuracy_score, classification_report, confusion_matrix\n",
        "from catboost import CatBoostClassifier\n",
        "from collections import Counter\n",
        "from imblearn.over_sampling import SMOTE\n",
        "from sklearn.utils.class_weight import compute_class_weight\n",
        "import matplotlib.pyplot as plt\n",
        "import seaborn as sns\n",
        "\n",
        "# ======================\n",
        "# 2. DATA LOADING & FEATURE ENGINEERING\n",
        "# ======================\n",
        "df = pd.read_csv(\"healthcare_dataset.csv\")\n",
        "\n",
        "# Convert target\n",
        "le = LabelEncoder()\n",
        "df[\"target\"] = le.fit_transform(df[\"Medical Condition\"])\n",
        "\n",
        "# Calculate proper class weights\n",
        "classes = np.unique(df[\"target\"])\n",
        "class_weights = compute_class_weight('balanced', classes=classes, y=df[\"target\"])\n",
        "class_weights_dict = dict(zip(classes, class_weights))\n",
        "\n",
        "# Feature engineering\n",
        "def create_features(df):\n",
        "    df = df.copy()\n",
        "\n",
        "    # Age features\n",
        "    df['Age_50plus'] = (df['Age'] > 50).astype(int)\n",
        "    df['Age_Squared'] = df['Age']**2\n",
        "\n",
        "    # Blood type features\n",
        "    if 'Blood Type' in df.columns:\n",
        "        df['Blood_Rh'] = df['Blood Type'].str.contains('+', regex=False).fillna(0).astype(int)\n",
        "        df['Blood_Group'] = df['Blood Type'].str[0].fillna('Unknown')\n",
        "\n",
        "    # Billing features\n",
        "    if 'Billing Amount' in df.columns:\n",
        "        if 'Date of Admission' in df.columns and 'Discharge Date' in df.columns:\n",
        "            df['Length_of_Stay'] = (pd.to_datetime(df['Discharge Date']) -\n",
        "                                  pd.to_datetime(df['Date of Admission'])).dt.days\n",
        "            df['Length_of_Stay'] = df['Length_of_Stay'].fillna(1)\n",
        "            df['Billing_per_Day'] = df['Billing Amount'] / df['Length_of_Stay']\n",
        "        else:\n",
        "            df['Billing_per_Day'] = df['Billing Amount']\n",
        "\n",
        "        df['High_Biller'] = (df['Billing Amount'] > df['Billing Amount'].quantile(0.75)).astype(int)\n",
        "\n",
        "    # Admission features\n",
        "    if 'Admission Type' in df.columns:\n",
        "        df['Urgent_Admission'] = df['Admission Type'].isin(['Emergency', 'Urgent']).astype(int)\n",
        "\n",
        "    # Test Results\n",
        "    if 'Test Results' in df.columns:\n",
        "        df['Test_Abnormal'] = df['Test Results'].str.contains('Abnormal', regex=False).astype(int)\n",
        "\n",
        "    return df\n",
        "\n",
        "df = create_features(df)\n",
        "\n",
        "# ======================\n",
        "# 3. DATA PREPARATION\n",
        "# ======================\n",
        "# Select available features\n",
        "possible_features = [\n",
        "    'Age', 'Age_50plus', 'Age_Squared', 'Gender',\n",
        "    'Blood_Group', 'Blood_Rh', 'Billing Amount',\n",
        "    'Billing_per_Day', 'High_Biller', 'Test Results',\n",
        "    'Test_Abnormal', 'Urgent_Admission'\n",
        "]\n",
        "features = [f for f in possible_features if f in df.columns]\n",
        "print(f\"Using features: {features}\")\n",
        "\n",
        "X = df[features]\n",
        "y = df['target']\n",
        "\n",
        "# Split data\n",
        "X_train, X_test, y_train, y_test = train_test_split(\n",
        "    X, y, test_size=0.2, random_state=42, stratify=y)\n",
        "\n",
        "# Apply SMOTE if needed\n",
        "class_counts = Counter(y_train)\n",
        "if len(class_counts) > 1 and min(class_counts.values()) < 100:\n",
        "    smote = SMOTE(random_state=42)\n",
        "    X_train_res, y_train_res = smote.fit_resample(X_train, y_train)\n",
        "    print(f\"Class distribution after SMOTE: {Counter(y_train_res)}\")\n",
        "else:\n",
        "    X_train_res, y_train_res = X_train, y_train\n",
        "    print(f\"Class distribution: {class_counts}\")\n",
        "\n",
        "# ======================\n",
        "# 4. MODEL TRAINING\n",
        "# ======================\n",
        "# Identify categorical features\n",
        "cat_features = [col for col in features if df[col].dtype == 'object' and df[col].nunique() < 50]\n",
        "print(f\"Categorical features: {cat_features}\")\n",
        "\n",
        "model = CatBoostClassifier(\n",
        "    iterations=1500,\n",
        "    learning_rate=0.05,\n",
        "    depth=8,\n",
        "    l2_leaf_reg=3,\n",
        "    loss_function='MultiClass',\n",
        "    eval_metric='TotalF1',\n",
        "    auto_class_weights='Balanced',  # Correct CatBoost parameter\n",
        "    cat_features=cat_features,\n",
        "    random_state=42,\n",
        "    early_stopping_rounds=50,\n",
        "    verbose=100\n",
        ")\n",
        "\n",
        "model.fit(\n",
        "    X_train_res, y_train_res,\n",
        "    eval_set=(X_test, y_test),\n",
        "    plot=True\n",
        ")\n",
        "\n",
        "# ======================\n",
        "# 5. EVALUATION\n",
        "# ======================\n",
        "y_pred = model.predict(X_test)\n",
        "\n",
        "print(\"\\n=== MODEL EVALUATION ===\")\n",
        "print(\"Balanced Accuracy:\", balanced_accuracy_score(y_test, y_pred))\n",
        "print(\"\\nClassification Report:\")\n",
        "print(classification_report(le.inverse_transform(y_test),\n",
        "                          le.inverse_transform(y_pred)))\n",
        "\n",
        "# Confusion Matrix\n",
        "plt.figure(figsize=(12, 10))\n",
        "cm = confusion_matrix(y_test, y_pred)\n",
        "sns.heatmap(cm, annot=True, fmt='d', cmap='Blues',\n",
        "            xticklabels=le.classes_,\n",
        "            yticklabels=le.classes_)\n",
        "plt.title('Confusion Matrix')\n",
        "plt.xlabel('Predicted')\n",
        "plt.ylabel('Actual')\n",
        "plt.show()\n",
        "\n",
        "# Feature Importance\n",
        "plt.figure(figsize=(12, 8))\n",
        "sns.barplot(x=model.get_feature_importance(), y=features)\n",
        "plt.title('Feature Importance')\n",
        "plt.show()"
      ],
      "metadata": {
        "colab": {
          "base_uri": "https://localhost:8080/",
          "height": 1000,
          "referenced_widgets": [
            "f8b793c4376f411a95de28c62d17851d"
          ]
        },
        "id": "3gD-z0Nv1edz",
        "outputId": "d3f4b9a6-cbab-4ab8-f033-8bea74466a93"
      },
      "execution_count": null,
      "outputs": [
        {
          "output_type": "stream",
          "name": "stdout",
          "text": [
            "Using features: ['Age', 'Age_50plus', 'Age_Squared', 'Gender', 'Blood_Group', 'Blood_Rh', 'Billing Amount', 'Billing_per_Day', 'High_Biller', 'Test Results', 'Test_Abnormal', 'Urgent_Admission']\n",
            "Class distribution: Counter({1: 1366, 2: 1363, 4: 1350, 0: 1320, 5: 1303, 3: 1298})\n",
            "Categorical features: ['Gender', 'Blood_Group', 'Test Results']\n"
          ]
        },
        {
          "output_type": "display_data",
          "data": {
            "text/plain": [
              "MetricVisualizer(layout=Layout(align_self='stretch', height='500px'))"
            ],
            "application/vnd.jupyter.widget-view+json": {
              "version_major": 2,
              "version_minor": 0,
              "model_id": "f8b793c4376f411a95de28c62d17851d"
            }
          },
          "metadata": {}
        },
        {
          "output_type": "stream",
          "name": "stdout",
          "text": [
            "0:\tlearn: 0.2325400\ttest: 0.1613829\tbest: 0.1613829 (0)\ttotal: 212ms\tremaining: 5m 17s\n",
            "Stopped by overfitting detector  (50 iterations wait)\n",
            "\n",
            "bestTest = 0.1711289232\n",
            "bestIteration = 1\n",
            "\n",
            "Shrink model to first 2 iterations.\n",
            "\n",
            "=== MODEL EVALUATION ===\n",
            "Balanced Accuracy: 0.17217525429242506\n",
            "\n",
            "Classification Report:\n",
            "              precision    recall  f1-score   support\n",
            "\n",
            "   Arthritis       0.14      0.17      0.16       330\n",
            "      Asthma       0.21      0.16      0.18       342\n",
            "      Cancer       0.16      0.13      0.14       340\n",
            "    Diabetes       0.17      0.14      0.16       325\n",
            "Hypertension       0.19      0.21      0.20       338\n",
            "     Obesity       0.17      0.22      0.19       325\n",
            "\n",
            "    accuracy                           0.17      2000\n",
            "   macro avg       0.17      0.17      0.17      2000\n",
            "weighted avg       0.17      0.17      0.17      2000\n",
            "\n"
          ]
        },
        {
          "output_type": "display_data",
          "data": {
            "text/plain": [
              "<Figure size 1200x1000 with 2 Axes>"
            ],
            "image/png": "[encoded data removed]"
          },
          "metadata": {}
        },
        {
          "output_type": "display_data",
          "data": {
            "text/plain": [
              "<Figure size 1200x800 with 1 Axes>"
            ],
            "image/png": "[encoded data removed]"
          },
          "metadata": {}
        }
      ]
    },
    {
      "cell_type": "code",
      "source": [],
      "metadata": {
        "id": "aOGcWr1Q1yr-"
      },
      "execution_count": null,
      "outputs": []
    },
    {
      "cell_type": "markdown",
      "source": [
        "Support for third party widgets will remain active for the duration of the session. To disable support:"
      ],
      "metadata": {
        "id": "h9nUL3ZW2QDg"
      }
    }
  ]
}